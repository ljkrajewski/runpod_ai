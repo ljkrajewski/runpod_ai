{
 "cells": [
  {
   "cell_type": "code",
   "execution_count": 1,
   "id": "0f0e6ea1-152a-4093-919c-e897f54760ea",
   "metadata": {},
   "outputs": [
    {
     "name": "stdout",
     "output_type": "stream",
     "text": [
      "Hit:1 http://security.ubuntu.com/ubuntu jammy-security InRelease\n",
      "Hit:2 http://archive.ubuntu.com/ubuntu jammy InRelease                         \u001b[0m\n",
      "Hit:3 http://archive.ubuntu.com/ubuntu jammy-updates InRelease                 \u001b[0m\n",
      "Hit:4 https://ppa.launchpadcontent.net/deadsnakes/ppa/ubuntu jammy InRelease   \n",
      "Get:5 http://archive.ubuntu.com/ubuntu jammy-backports InRelease [108 kB]\n",
      "Hit:6 https://developer.download.nvidia.com/compute/cuda/repos/ubuntu2204/x86_64  InRelease\n",
      "Fetched 108 kB in 0s (248 kB/s)    \u001b[0m                \u001b[33m\u001b[33m\u001b[33m\u001b[33m\u001b[33m\n",
      "Reading package lists... Done\n",
      "Building dependency tree... Done\n",
      "Reading state information... Done\n",
      "2 packages can be upgraded. Run 'apt list --upgradable' to see them.\n",
      "Reading package lists... Done\n",
      "Building dependency tree... Done\n",
      "Reading state information... Done\n",
      "python3-tk is already the newest version (3.10.6-1~22.04).\n",
      "tmux is already the newest version (3.2a-4ubuntu0.2).\n",
      "0 upgraded, 0 newly installed, 0 to remove and 2 not upgraded.\n"
     ]
    }
   ],
   "source": [
    "!apt update -y\n",
    "!apt install tmux python3-tk -y"
   ]
  },
  {
   "cell_type": "code",
   "execution_count": 2,
   "id": "c95a27a9-16dd-4c80-8fda-80e84b3b5588",
   "metadata": {},
   "outputs": [],
   "source": [
    "baseDir='/workspace'\n",
    "kohyaDir=baseDir+'/kohya_ss'"
   ]
  },
  {
   "cell_type": "code",
   "execution_count": 3,
   "id": "dccd6016-3c22-4c97-9950-955cdc303dd9",
   "metadata": {},
   "outputs": [
    {
     "name": "stdout",
     "output_type": "stream",
     "text": [
      "/workspace\n",
      "--2023-06-28 21:27:11--  https://huggingface.co/runwayml/stable-diffusion-v1-5/resolve/main/v1-5-pruned.safetensors\n",
      "Resolving huggingface.co (huggingface.co)... 18.155.129.129, 18.155.129.4, 18.155.129.60, ...\n",
      "Connecting to huggingface.co (huggingface.co)|18.155.129.129|:443... connected.\n",
      "HTTP request sent, awaiting response... 302 Found\n",
      "Location: https://cdn-lfs.huggingface.co/repos/6b/20/6b201da5f0f5c60524535ebb7deac2eef68605655d3bbacfee9cce0087f3b3f5/1a189f0be69d6106a48548e7626207dddd7042a418dbf372cefd05e0cdba61b6?response-content-disposition=attachment%3B+filename*%3DUTF-8%27%27v1-5-pruned.safetensors%3B+filename%3D%22v1-5-pruned.safetensors%22%3B&Expires=1688240821&Policy=eyJTdGF0ZW1lbnQiOlt7IlJlc291cmNlIjoiaHR0cHM6Ly9jZG4tbGZzLmh1Z2dpbmdmYWNlLmNvL3JlcG9zLzZiLzIwLzZiMjAxZGE1ZjBmNWM2MDUyNDUzNWViYjdkZWFjMmVlZjY4NjA1NjU1ZDNiYmFjZmVlOWNjZTAwODdmM2IzZjUvMWExODlmMGJlNjlkNjEwNmE0ODU0OGU3NjI2MjA3ZGRkZDcwNDJhNDE4ZGJmMzcyY2VmZDA1ZTBjZGJhNjFiNj9yZXNwb25zZS1jb250ZW50LWRpc3Bvc2l0aW9uPSoiLCJDb25kaXRpb24iOnsiRGF0ZUxlc3NUaGFuIjp7IkFXUzpFcG9jaFRpbWUiOjE2ODgyNDA4MjF9fX1dfQ__&Signature=K-8fBiFDgl0OJpyXqvzCt7whPBzV2moZaJMfJyeLdWb1TIeyoAYduN7svACZJCPTRqR4dPOU5fGYFBnkiq2C%7EM7kajs7-yywIJtFPWV3BSw4ew2P%7EydrskD1p81yX5uRWLZJxNf%7EMcuA3iKjhGfn9KPUZwYAULkKMWHn5QcQcfIP3wNMtnZ5mCBWtnhooHBlQaGEkPUAWEpTP9m6FDRlnAo4aP75WPp7yU4znr4mwFWiatDmlYc2NCPhZWcuTvLUyeeQhFDqelMXvejHiRU0nXqgDetcTDF3lORFFzfxjxE0BAP3H5r-dUD7j5eQ6MUJj04JJYfOgJ%7EhxT1rD-p9qw__&Key-Pair-Id=KVTP0A1DKRTAX [following]\n",
      "--2023-06-28 21:27:11--  https://cdn-lfs.huggingface.co/repos/6b/20/6b201da5f0f5c60524535ebb7deac2eef68605655d3bbacfee9cce0087f3b3f5/1a189f0be69d6106a48548e7626207dddd7042a418dbf372cefd05e0cdba61b6?response-content-disposition=attachment%3B+filename*%3DUTF-8%27%27v1-5-pruned.safetensors%3B+filename%3D%22v1-5-pruned.safetensors%22%3B&Expires=1688240821&Policy=eyJTdGF0ZW1lbnQiOlt7IlJlc291cmNlIjoiaHR0cHM6Ly9jZG4tbGZzLmh1Z2dpbmdmYWNlLmNvL3JlcG9zLzZiLzIwLzZiMjAxZGE1ZjBmNWM2MDUyNDUzNWViYjdkZWFjMmVlZjY4NjA1NjU1ZDNiYmFjZmVlOWNjZTAwODdmM2IzZjUvMWExODlmMGJlNjlkNjEwNmE0ODU0OGU3NjI2MjA3ZGRkZDcwNDJhNDE4ZGJmMzcyY2VmZDA1ZTBjZGJhNjFiNj9yZXNwb25zZS1jb250ZW50LWRpc3Bvc2l0aW9uPSoiLCJDb25kaXRpb24iOnsiRGF0ZUxlc3NUaGFuIjp7IkFXUzpFcG9jaFRpbWUiOjE2ODgyNDA4MjF9fX1dfQ__&Signature=K-8fBiFDgl0OJpyXqvzCt7whPBzV2moZaJMfJyeLdWb1TIeyoAYduN7svACZJCPTRqR4dPOU5fGYFBnkiq2C%7EM7kajs7-yywIJtFPWV3BSw4ew2P%7EydrskD1p81yX5uRWLZJxNf%7EMcuA3iKjhGfn9KPUZwYAULkKMWHn5QcQcfIP3wNMtnZ5mCBWtnhooHBlQaGEkPUAWEpTP9m6FDRlnAo4aP75WPp7yU4znr4mwFWiatDmlYc2NCPhZWcuTvLUyeeQhFDqelMXvejHiRU0nXqgDetcTDF3lORFFzfxjxE0BAP3H5r-dUD7j5eQ6MUJj04JJYfOgJ%7EhxT1rD-p9qw__&Key-Pair-Id=KVTP0A1DKRTAX\n",
      "Resolving cdn-lfs.huggingface.co (cdn-lfs.huggingface.co)... 52.222.174.32, 52.222.174.26, 52.222.174.3, ...\n",
      "Connecting to cdn-lfs.huggingface.co (cdn-lfs.huggingface.co)|52.222.174.32|:443... connected.\n",
      "HTTP request sent, awaiting response... 200 OK\n",
      "Length: 7703324286 (7.2G) [binary/octet-stream]\n",
      "Saving to: ‘v1-5-pruned.safetensors.1’\n",
      "\n",
      "v1-5-pruned.safeten 100%[===================>]   7.17G   101MB/s    in 71s     \n",
      "\n",
      "2023-06-28 21:28:23 (103 MB/s) - ‘v1-5-pruned.safetensors.1’ saved [7703324286/7703324286]\n",
      "\n",
      "fatal: destination path 'kohya_ss' already exists and is not an empty directory.\n"
     ]
    }
   ],
   "source": [
    "%cd $baseDir\n",
    "!wget https://huggingface.co/runwayml/stable-diffusion-v1-5/resolve/main/v1-5-pruned.safetensors\n",
    "!git clone https://github.com/bmaltais/kohya_ss.git"
   ]
  },
  {
   "cell_type": "code",
   "execution_count": 4,
   "id": "7c76b5cd-a7be-48df-a835-e7eb1e8cef3d",
   "metadata": {},
   "outputs": [
    {
     "name": "stdout",
     "output_type": "stream",
     "text": [
      "/workspace/kohya_ss\n",
      "Open a terminal session and run\n",
      "\n",
      "\ttmux attach -t kohya_session\n",
      "\n",
      "now.\n"
     ]
    }
   ],
   "source": [
    "%cd $kohyaDir\n",
    "!tmux new-session -d -s kohya_session './setup.sh -pv'\n",
    "print('Open a terminal session and run\\n\\n\\ttmux attach -t kohya_session\\n\\nnow.')"
   ]
  },
  {
   "cell_type": "markdown",
   "id": "2aa6cd85-e5c4-4356-80d5-d523cc12da9a",
   "metadata": {},
   "source": [
    "At this point:\n",
    "- To view the installation and get the _gradio_ link to the _kohya_ss_ UI, open a terminal session and run\n",
    "```\n",
    "tmux attach -t kohya_session\n",
    "```\n",
    "- While the installation is running, open _kohya_ss-Part_2.ipynb_ and follow the directions there."
   ]
  },
  {
   "cell_type": "code",
   "execution_count": null,
   "id": "e81a56cd-5865-498d-855b-02942a5979fa",
   "metadata": {},
   "outputs": [],
   "source": []
  }
 ],
 "metadata": {
  "kernelspec": {
   "display_name": "Python 3 (ipykernel)",
   "language": "python",
   "name": "python3"
  },
  "language_info": {
   "codemirror_mode": {
    "name": "ipython",
    "version": 3
   },
   "file_extension": ".py",
   "mimetype": "text/x-python",
   "name": "python",
   "nbconvert_exporter": "python",
   "pygments_lexer": "ipython3",
   "version": "3.10.6"
  }
 },
 "nbformat": 4,
 "nbformat_minor": 5
}

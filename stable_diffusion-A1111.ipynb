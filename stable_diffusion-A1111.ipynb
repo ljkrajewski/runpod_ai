{
 "cells": [
  {
   "cell_type": "code",
   "execution_count": null,
   "id": "5328d9e4-543b-497a-ac49-592d17aef569",
   "metadata": {},
   "outputs": [],
   "source": [
    "%cd /workspace\n",
    "!apt update\n",
    "!apt install wget python3-venv -y\n",
    "base=\"/workspace/runpod_ai\"\n",
    "sdBase=base+\"/stable-diffusion-webui\"\n",
    "rpBase=base+\"/scripts\"\n",
    "%cd $base\n",
    "!git clone https://github.com/AUTOMATIC1111/stable-diffusion-webui.git"
   ]
  },
  {
   "cell_type": "code",
   "execution_count": null,
   "id": "8e935879-412d-4f5e-b895-38b27615e315",
   "metadata": {},
   "outputs": [],
   "source": [
    "#Download from link\n",
    "\n",
    "link=\"https://drive.google.com/file/d/10lXhCrlCfSuRZ1YmW-jdbD9vJ92lvy_F/view?usp=sharing\"\n",
    "filename=\"zwx_sarah.ckpt\"\n",
    "destDir=sdBase+\"/models/Stable-diffusion\"\n",
    "#destDir=sdBase+\"/models/Lora\"\n",
    "\n",
    "!bash $rpBase/dlFromLink.sh $link $filename $destDir\n",
    "\n",
    "#TODO: Write a loop to take a link:destination dictionary to download multiple files (checkpoints, loras)\n",
    "#and download them into their proper locations... or just copy this cell for as many downloads you need."
   ]
  },
  {
   "cell_type": "code",
   "execution_count": null,
   "id": "cd80922e-1bf3-48c4-afaa-1c371b5dd619",
   "metadata": {},
   "outputs": [],
   "source": [
    "#TODO: Download modules and scripts\n",
    "# ControlNet for Stable Diffusion WebUI (https://github.com/Mikubill/sd-webui-controlnet)\n",
    "#   and lllyasviel/ControlNet-v1-1 model files (https://huggingface.co/lllyasviel/ControlNet-v1-1/tree/main)\n",
    "#   Follow install instructions (https://github.com/Mikubill/sd-webui-controlnet#installation) and see where\n",
    "#   everything is dropped.\n",
    "#%cd $sdBase/wherever/controlnet/models/go\n",
    "#git lfs install\n",
    "#git clone https://huggingface.co/lllyasviel/ControlNet-v1-1\n",
    "\n",
    "#TODO: Download styles.\n",
    "# See https://www.youtube.com/watch?v=Ues8cMC8OIo"
   ]
  },
  {
   "cell_type": "code",
   "execution_count": null,
   "id": "9b27de4f-0638-4266-a28b-dafc345f61b0",
   "metadata": {},
   "outputs": [],
   "source": [
    "# more about commandline arguments:  https://github.com/AUTOMATIC1111/stable-diffusion-webui/wiki/Command-Line-Arguments-and-Settings\n",
    "cmdlineArgs=\"--xformers --enable-insecure-extension-access\"\n",
    "!sed -i 's/#export COMMANDLINE_ARGS=\"\"/export COMMANDLINE_ARGS=\"--share {cmdlineArgs}\"/' $sdBase/webui-user.sh"
   ]
  },
  {
   "cell_type": "code",
   "execution_count": null,
   "id": "e1a1cf1b-d5d7-4a95-982e-3c8917a9b3f9",
   "metadata": {},
   "outputs": [],
   "source": [
    "%cd $sdBase\n",
    "!bash ./webui.sh -f"
   ]
  },
  {
   "cell_type": "code",
   "execution_count": null,
   "id": "1f17b599-071f-4772-8d6b-3bb8506d2b43",
   "metadata": {},
   "outputs": [],
   "source": []
  }
 ],
 "metadata": {
  "kernelspec": {
   "display_name": "Python 3 (ipykernel)",
   "language": "python",
   "name": "python3"
  },
  "language_info": {
   "codemirror_mode": {
    "name": "ipython",
    "version": 3
   },
   "file_extension": ".py",
   "mimetype": "text/x-python",
   "name": "python",
   "nbconvert_exporter": "python",
   "pygments_lexer": "ipython3",
   "version": "3.10.6"
  }
 },
 "nbformat": 4,
 "nbformat_minor": 5
}

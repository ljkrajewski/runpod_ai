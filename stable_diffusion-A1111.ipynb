{
 "cells": [
  {
   "cell_type": "code",
   "execution_count": null,
   "id": "5328d9e4-543b-497a-ac49-592d17aef569",
   "metadata": {},
   "outputs": [],
   "source": [
    "!apt install wget python3-venv -y"
   ]
  },
  {
   "cell_type": "code",
   "execution_count": null,
   "id": "7fcd76e6-11ed-443f-bad1-d1bece48f478",
   "metadata": {},
   "outputs": [],
   "source": [
    "!git clone https://github.com/AUTOMATIC1111/stable-diffusion-webui.git"
   ]
  },
  {
   "cell_type": "code",
   "execution_count": null,
   "id": "83459ddf-098c-4484-ac19-6dab5b28fc48",
   "metadata": {},
   "outputs": [],
   "source": [
    "#TODO: Download model from link"
   ]
  },
  {
   "cell_type": "code",
   "execution_count": null,
   "id": "8e935879-412d-4f5e-b895-38b27615e315",
   "metadata": {},
   "outputs": [],
   "source": [
    "#Download from Google Drive\n",
    "\n",
    "link=\"https://drive.google.com/file/d/118ul9uLt-jebHAOMQNTogfbXsjJpXzTf/view?usp=sharing\"\n",
    "filename=\"zwx_debra.ckpt\"\n",
    "destDir=\"/workspace/runpod_ai/stable-diffusion-webui/models/Stable-diffusion\"\n",
    "#destDir=\"/workspace/runpod_ai/stable-diffusion-webui/models/Lora\"\n",
    "\n",
    "!bash /workspace/scripts/runpod_ai/dlFromLink.sh link $filename $destDir"
   ]
  },
  {
   "cell_type": "code",
   "execution_count": null,
   "id": "cd80922e-1bf3-48c4-afaa-1c371b5dd619",
   "metadata": {},
   "outputs": [],
   "source": [
    "#TODO: Download modules and scripts"
   ]
  },
  {
   "cell_type": "code",
   "execution_count": null,
   "id": "9b27de4f-0638-4266-a28b-dafc345f61b0",
   "metadata": {},
   "outputs": [],
   "source": [
    "# more about commandline arguments:  https://github.com/AUTOMATIC1111/stable-diffusion-webui/wiki/Command-Line-Arguments-and-Settings\n",
    "!sed -i 's/#export COMMANDLINE_ARGS=\"\"/export COMMANDLINE_ARGS=\"--xformers --enable-insecure-extension-access --share\"/' /workspace/runpod_ai/stable-diffusion-webui/webui-user.sh"
   ]
  },
  {
   "cell_type": "code",
   "execution_count": null,
   "id": "e1a1cf1b-d5d7-4a95-982e-3c8917a9b3f9",
   "metadata": {},
   "outputs": [],
   "source": [
    "%cd /workspace/runpod_ai/stable-diffusion-webui\n",
    "!bash ./webui.sh -f"
   ]
  },
  {
   "cell_type": "code",
   "execution_count": null,
   "id": "cc3bae55-cf07-46e6-b375-200fdbfaec54",
   "metadata": {},
   "outputs": [],
   "source": []
  }
 ],
 "metadata": {
  "kernelspec": {
   "display_name": "Python 3 (ipykernel)",
   "language": "python",
   "name": "python3"
  },
  "language_info": {
   "codemirror_mode": {
    "name": "ipython",
    "version": 3
   },
   "file_extension": ".py",
   "mimetype": "text/x-python",
   "name": "python",
   "nbconvert_exporter": "python",
   "pygments_lexer": "ipython3",
   "version": "3.10.6"
  }
 },
 "nbformat": 4,
 "nbformat_minor": 5
}

{
 "cells": [
  {
   "cell_type": "code",
   "execution_count": null,
   "id": "8d8f990f-9114-4448-b5e4-354942768f06",
   "metadata": {},
   "outputs": [],
   "source": [
    "!apt update\n",
    "!pip install tqdm\n",
    "!apt install zip -y"
   ]
  },
  {
   "cell_type": "code",
   "execution_count": null,
   "id": "73238057-4f1a-4b8b-87c1-d2e7e1443202",
   "metadata": {},
   "outputs": [],
   "source": [
    "## Set user interface\n",
    "interface='\\-\\-chat'\n",
    "#interface='--notebook'\n",
    "\n",
    "## Set desired model\n",
    "model='anon8231489123/vicuna-13b-GPTQ-4bit-128g'\n",
    "switches='\\-\\-wbits 4 \\-\\-groupsize 128'\n",
    "#model='TheBloke/WizardLM-Uncensored-Falcon-7B-GPTQ'\n",
    "#switches='--autogptq --trust-remote-code'"
   ]
  },
  {
   "cell_type": "code",
   "execution_count": null,
   "id": "5561a1ab-cd71-4da2-9407-816b8f984bc1",
   "metadata": {},
   "outputs": [],
   "source": [
    "!wget https://github.com/oobabooga/text-generation-webui/releases/download/installers/oobabooga_linux.zip\n",
    "!unzip oobabooga_linux.zip"
   ]
  },
  {
   "cell_type": "code",
   "execution_count": null,
   "id": "75a20483-5bb3-40fd-a346-890d14a1f982",
   "metadata": {},
   "outputs": [],
   "source": [
    "%cd /workspace/runpod_ai/oobabooga_linux\n",
    "!git clone https://github.com/oobabooga/text-generation-webui.git"
   ]
  },
  {
   "cell_type": "code",
   "execution_count": null,
   "id": "e008b8bd-6db4-4159-a9f1-64557b05ad94",
   "metadata": {},
   "outputs": [],
   "source": [
    "%cd /workspace/runpod_ai/oobabooga_linux/text-generation-webui\n",
    "!python -m pip install -r ./requirements.txt\n",
    "!python download-model.py $model"
   ]
  },
  {
   "cell_type": "code",
   "execution_count": null,
   "id": "f3c30b45-908d-4fdf-b881-dfbacab55220",
   "metadata": {},
   "outputs": [],
   "source": [
    "%cd ..\n",
    "!sed -i \"s/CMD_FLAGS = '--chat'/CMD_FLAGS = '--share ${interface} ${switches}'/\" webui.py\n",
    "!sed -i 's/gpuchoice = input(\"Input> \").lower()/gpuchoice = \"a\"/' webui.py"
   ]
  },
  {
   "cell_type": "code",
   "execution_count": null,
   "id": "90665df5-c05e-45b2-94ef-f7974fdc323d",
   "metadata": {},
   "outputs": [],
   "source": [
    "!bash start_linux.sh"
   ]
  },
  {
   "cell_type": "code",
   "execution_count": null,
   "id": "1d7699f1-2238-4c9a-b2a3-c31a22241e85",
   "metadata": {},
   "outputs": [],
   "source": []
  }
 ],
 "metadata": {
  "kernelspec": {
   "display_name": "Python 3 (ipykernel)",
   "language": "python",
   "name": "python3"
  },
  "language_info": {
   "codemirror_mode": {
    "name": "ipython",
    "version": 3
   },
   "file_extension": ".py",
   "mimetype": "text/x-python",
   "name": "python",
   "nbconvert_exporter": "python",
   "pygments_lexer": "ipython3",
   "version": "3.10.6"
  }
 },
 "nbformat": 4,
 "nbformat_minor": 5
}

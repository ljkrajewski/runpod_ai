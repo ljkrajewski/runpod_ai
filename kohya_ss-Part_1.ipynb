{
 "cells": [
  {
   "cell_type": "code",
   "execution_count": null,
   "id": "0f0e6ea1-152a-4093-919c-e897f54760ea",
   "metadata": {},
   "outputs": [],
   "source": [
    "!apt update -y\n",
    "!apt install tmux python3-tk -y"
   ]
  },
  {
   "cell_type": "code",
   "execution_count": null,
   "id": "c95a27a9-16dd-4c80-8fda-80e84b3b5588",
   "metadata": {},
   "outputs": [],
   "source": [
    "baseDir='/workspace'\n",
    "kohyaDir=baseDir+'/kohya_ss'"
   ]
  },
  {
   "cell_type": "code",
   "execution_count": null,
   "id": "dccd6016-3c22-4c97-9950-955cdc303dd9",
   "metadata": {},
   "outputs": [],
   "source": [
    "%cd $baseDir\n",
    "!wget https://huggingface.co/runwayml/stable-diffusion-v1-5/resolve/main/v1-5-pruned.safetensors\n",
    "!git clone https://github.com/bmaltais/kohya_ss.git"
   ]
  },
  {
   "cell_type": "code",
   "execution_count": null,
   "id": "7c76b5cd-a7be-48df-a835-e7eb1e8cef3d",
   "metadata": {},
   "outputs": [],
   "source": [
    "%cd $kohyaDir\n",
    "!tmux new-session -d -s kohya_session './setup.sh -pv'\n",
    "print('All done here.')"
   ]
  },
  {
   "cell_type": "markdown",
   "id": "2aa6cd85-e5c4-4356-80d5-d523cc12da9a",
   "metadata": {},
   "source": [
    "At this point:\n",
    "- To view the installation and get the _gradio_ link to the _kohya_ss_ UI, open a terminal session and run\n",
    "```\n",
    "tmux attach -t kohya_session\n",
    "```\n",
    "- While the installation is running, open _kohya_ss-Part_2.ipynb_ and follow the directions there."
   ]
  },
  {
   "cell_type": "code",
   "execution_count": null,
   "id": "e81a56cd-5865-498d-855b-02942a5979fa",
   "metadata": {},
   "outputs": [],
   "source": []
  }
 ],
 "metadata": {
  "kernelspec": {
   "display_name": "Python 3 (ipykernel)",
   "language": "python",
   "name": "python3"
  },
  "language_info": {
   "codemirror_mode": {
    "name": "ipython",
    "version": 3
   },
   "file_extension": ".py",
   "mimetype": "text/x-python",
   "name": "python",
   "nbconvert_exporter": "python",
   "pygments_lexer": "ipython3",
   "version": "3.10.6"
  }
 },
 "nbformat": 4,
 "nbformat_minor": 5
}

{
 "cells": [
  {
   "cell_type": "code",
   "execution_count": 1,
   "id": "85c8ae64-2a0f-421e-b414-d7b1adc191f3",
   "metadata": {},
   "outputs": [],
   "source": [
    "# User-editable variables here\n",
    "jobName='Debra'\n",
    "\n",
    "enableBucket=True\n",
    "maxResolution='768,768'"
   ]
  },
  {
   "cell_type": "code",
   "execution_count": 2,
   "id": "daf5daae-eec3-4e2d-895d-431fb68539f9",
   "metadata": {},
   "outputs": [],
   "source": [
    "imageDir='/workspace/training'\n",
    "configFile='/workspace/runpod_ai/scripts/LoraBasicSettings.json'"
   ]
  },
  {
   "cell_type": "code",
   "execution_count": 6,
   "id": "da6c52ea-bec8-4de0-8b9c-5d5c65cb7c0b",
   "metadata": {},
   "outputs": [],
   "source": [
    "!mkdir -p $imageDir\n",
    "!mkdir -p $imageDir/logs\n",
    "!mkdir -p $imageDir/images\n",
    "!mkdir -p $imageDir/output\n",
    "!mkdir -p $imageDir/reg"
   ]
  },
  {
   "cell_type": "code",
   "execution_count": 5,
   "id": "533f82e4-2b06-476f-83f0-d63610b39b44",
   "metadata": {},
   "outputs": [],
   "source": [
    "!sed -i 's/\\\"output_name\\\": \\\"latest\\\",/\\\"output_name\\\": \\\"{jobName}\\\",/' $configFile"
   ]
  },
  {
   "cell_type": "code",
   "execution_count": 8,
   "id": "23b3d9f3-66ff-42bf-bc81-2cc31f4c6b0b",
   "metadata": {},
   "outputs": [
    {
     "name": "stdout",
     "output_type": "stream",
     "text": [
      "Folder to caption:  /workspace/training/images/50_Debra\n"
     ]
    }
   ],
   "source": [
    "#Pause here\n",
    "# Load config file\n",
    "# Upload training pictures\n",
    "# Run 'Utilities/WD14 Captioning'\n",
    "\n",
    "imgFolder = imageDir+'/images/50_'+jobName\n",
    "!mkdir -p $imgFolder\n",
    "print('Folder to caption:  '+imgFolder)"
   ]
  },
  {
   "cell_type": "code",
   "execution_count": null,
   "id": "f9ef1ab8-d7fa-42d7-a794-368f65bdccab",
   "metadata": {},
   "outputs": [],
   "source": []
  }
 ],
 "metadata": {
  "kernelspec": {
   "display_name": "Python 3 (ipykernel)",
   "language": "python",
   "name": "python3"
  },
  "language_info": {
   "codemirror_mode": {
    "name": "ipython",
    "version": 3
   },
   "file_extension": ".py",
   "mimetype": "text/x-python",
   "name": "python",
   "nbconvert_exporter": "python",
   "pygments_lexer": "ipython3",
   "version": "3.10.6"
  }
 },
 "nbformat": 4,
 "nbformat_minor": 5
}

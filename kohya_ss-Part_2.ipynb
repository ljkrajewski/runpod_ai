{
 "cells": [
  {
   "cell_type": "code",
   "execution_count": null,
   "id": "85c8ae64-2a0f-421e-b414-d7b1adc191f3",
   "metadata": {},
   "outputs": [],
   "source": [
    "# User-editable variables here\n",
    "jobName='Debra'\n",
    "\n",
    "enableBucket=True\n",
    "maxResolution='768,768'"
   ]
  },
  {
   "cell_type": "code",
   "execution_count": null,
   "id": "daf5daae-eec3-4e2d-895d-431fb68539f9",
   "metadata": {},
   "outputs": [],
   "source": [
    "imageDir='/workspace/training'\n",
    "configFile='/workspace/runpod_ai/scripts/LoraBasicSettings.json'"
   ]
  },
  {
   "cell_type": "code",
   "execution_count": null,
   "id": "da6c52ea-bec8-4de0-8b9c-5d5c65cb7c0b",
   "metadata": {},
   "outputs": [],
   "source": [
    "!mkdir -p $imageDir\n",
    "!mkdir -p $imageDir/logs\n",
    "!mkdir -p $imageDir/images/tmp\n",
    "!mkdir -p $imageDir/output\n",
    "!mkdir -p $imageDir/reg"
   ]
  },
  {
   "cell_type": "code",
   "execution_count": null,
   "id": "1290ae98-35c2-4427-9c85-7fc8aa56bbfd",
   "metadata": {},
   "outputs": [],
   "source": [
    "#Pause here\n",
    "print('Upload training pictues to '+imageDir+'/images/tmp')"
   ]
  },
  {
   "cell_type": "code",
   "execution_count": null,
   "id": "fd795e50-4828-4e94-b74e-66bcc285cdf5",
   "metadata": {},
   "outputs": [],
   "source": [
    "import os\n",
    "\n",
    "directory = imageDir+'/images/tmp'  # Specify the directory path\n",
    "numFiles = len([f for f in os.listdir(directory) if os.path.isfile(os.path.join(directory, f))])\n",
    "\n",
    "# min 100/image, min 1500/epoch\n",
    "numSteps = 1500/numFiles\n",
    "if numSteps < 100:\n",
    "    numSteps = 100\n",
    "print('Steps per image:  '+str(numSteps))\n",
    "print('Steps per epoch:  '+str(numSteps*numFiles))\n",
    "\n",
    "newDirName=str(numSteps)+'_'+jobName\n",
    "%cd $imageDir/images\n",
    "!mv tmp $newDirName\n",
    "print('Folder to caption:  '+imageDir+'/images/'+newDirName)"
   ]
  },
  {
   "cell_type": "code",
   "execution_count": null,
   "id": "533f82e4-2b06-476f-83f0-d63610b39b44",
   "metadata": {},
   "outputs": [],
   "source": [
    "origConfigFile=configFile+'.orig'\n",
    "!cp $origConfigFile $configFile\n",
    "!sed -i 's/\\\"output_name\\\": \\\"latest\\\",/\\\"output_name\\\": \\\"{jobName}\\\",/' $configFile\n",
    "print('Configuration file:  '+configFile)"
   ]
  },
  {
   "cell_type": "code",
   "execution_count": null,
   "id": "23b3d9f3-66ff-42bf-bc81-2cc31f4c6b0b",
   "metadata": {},
   "outputs": [],
   "source": [
    "#Pause here\n",
    "# Load config file\n",
    "# Run 'Utilities/WD14 Captioning'"
   ]
  },
  {
   "cell_type": "code",
   "execution_count": null,
   "id": "f9ef1ab8-d7fa-42d7-a794-368f65bdccab",
   "metadata": {},
   "outputs": [],
   "source": [
    "print('Folder to caption:  '+imageDir+'/images/'+newDirName)"
   ]
  },
  {
   "cell_type": "code",
   "execution_count": null,
   "id": "ad99daf9-4657-4670-b1c8-e822296bf041",
   "metadata": {},
   "outputs": [],
   "source": [
    "# Start training in kohya_ss UI."
   ]
  }
 ],
 "metadata": {
  "kernelspec": {
   "display_name": "Python 3 (ipykernel)",
   "language": "python",
   "name": "python3"
  },
  "language_info": {
   "codemirror_mode": {
    "name": "ipython",
    "version": 3
   },
   "file_extension": ".py",
   "mimetype": "text/x-python",
   "name": "python",
   "nbconvert_exporter": "python",
   "pygments_lexer": "ipython3",
   "version": "3.10.6"
  }
 },
 "nbformat": 4,
 "nbformat_minor": 5
}

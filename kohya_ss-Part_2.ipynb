{
 "cells": [
  {
   "cell_type": "markdown",
   "id": "82eafccb-a089-4652-a275-cecffe5fd20f",
   "metadata": {},
   "source": [
    "__NOTE: Do NOT 'Run All' on this notebook.__\n",
    "- Edit the variables in the cell below."
   ]
  },
  {
   "cell_type": "code",
   "execution_count": null,
   "id": "85c8ae64-2a0f-421e-b414-d7b1adc191f3",
   "metadata": {},
   "outputs": [],
   "source": [
    "#You _will_ need to edit this variable\n",
    "jobName='Debra'\n",
    "\n",
    "#You may need to edit these (if you know what you're doing.)\n",
    "enableBucket=False\n",
    "maxResolution='768,768'\n",
    "xformers=True"
   ]
  },
  {
   "cell_type": "markdown",
   "id": "c64ce3a3-3a94-444e-89bd-d3fe484b9a6c",
   "metadata": {},
   "source": [
    "- Continue running each cell one at a time."
   ]
  },
  {
   "cell_type": "code",
   "execution_count": null,
   "id": "daf5daae-eec3-4e2d-895d-431fb68539f9",
   "metadata": {},
   "outputs": [],
   "source": [
    "imageDir='/workspace/training'\n",
    "configFile='/workspace/runpod_ai/scripts/LoraBasicSettings.json'"
   ]
  },
  {
   "cell_type": "code",
   "execution_count": null,
   "id": "da6c52ea-bec8-4de0-8b9c-5d5c65cb7c0b",
   "metadata": {},
   "outputs": [],
   "source": [
    "!mkdir -p $imageDir\n",
    "!mkdir -p $imageDir/logs\n",
    "!mkdir -p $imageDir/images/tmp\n",
    "!mkdir -p $imageDir/output\n",
    "!mkdir -p $imageDir/reg\n",
    "print('Upload training pictues to '+imageDir+'/images/tmp')"
   ]
  },
  {
   "cell_type": "markdown",
   "id": "34f428c1-8b51-451d-b332-64b940b8fab7",
   "metadata": {},
   "source": [
    "__Pause here__\n",
    "- Upload your training images to the directory named above.\n",
    "- Continue running cells (one at a time) when all pictures are uploaded."
   ]
  },
  {
   "cell_type": "code",
   "execution_count": null,
   "id": "fd795e50-4828-4e94-b74e-66bcc285cdf5",
   "metadata": {},
   "outputs": [],
   "source": [
    "import os\n",
    "\n",
    "directory = imageDir+'/images/tmp'  # Specify the directory path\n",
    "numFiles = len([f for f in os.listdir(directory) if os.path.isfile(os.path.join(directory, f))])\n",
    "\n",
    "# min 100/image, min 1500/epoch\n",
    "numSteps = 1500/numFiles\n",
    "if numSteps < 100:\n",
    "    numSteps = 100\n",
    "print('Steps per image:  '+str(numSteps))\n",
    "print('Steps per epoch:  '+str(numSteps*numFiles))\n",
    "\n",
    "newDirName=str(numSteps)+'_'+jobName\n",
    "%cd $imageDir/images\n",
    "!mv tmp $newDirName\n",
    "print('Folder to caption:  '+imageDir+'/images/'+newDirName)"
   ]
  },
  {
   "cell_type": "markdown",
   "id": "201e1517-cae3-4b1e-84c6-fd9d037b6311",
   "metadata": {},
   "source": [
    "__Pause here__\n",
    "- Run 'Utilities/WD14 Captioning'\n",
    "- Continue running cells (one at a time) when captioning is finished."
   ]
  },
  {
   "cell_type": "code",
   "execution_count": null,
   "id": "533f82e4-2b06-476f-83f0-d63610b39b44",
   "metadata": {},
   "outputs": [],
   "source": [
    "origConfigFile=configFile+'.orig'\n",
    "!cp $origConfigFile $configFile\n",
    "!sed -i 's/\\\"output_name\\\": \\\"latest\\\",/\\\"output_name\\\": \\\"{jobName}\\\",/' $configFile\n",
    "!sed -i 's/\\\"max_resolution\\\": \\\"768,768\\\",/\\\"max_resolution\\\": \\\"{maxResolution}\\\",/' $configFile\n",
    "enableBucketStr=str(enableBucket).lower()\n",
    "!sed -i 's/\\\"enable_bucket\\\": true,/\\\"enable_bucket\\\": {enableBucketStr},/' $configFile\n",
    "xformersStr=str(xformers).lower()\n",
    "!sed -i 's/\\\"xformers\\\": false,/\\\"xformers\\\": {xformersStr},/' $configFile\n",
    "print('Configuration file:  '+configFile)"
   ]
  },
  {
   "cell_type": "markdown",
   "id": "d1e65bd7-0257-4fd9-9d2a-d0de20c7b339",
   "metadata": {},
   "source": [
    "__Almost done.__\n",
    "- Load config file in 'Dreambooth LoRA'\n",
    "- Set up sampling in 'Dreambooth LoRA/Sample images config'\n",
    "- Start training in kohya_ss UI."
   ]
  },
  {
   "cell_type": "code",
   "execution_count": null,
   "id": "036ee145-f6b1-4c1b-8140-b3bde0dcf317",
   "metadata": {},
   "outputs": [],
   "source": []
  }
 ],
 "metadata": {
  "kernelspec": {
   "display_name": "Python 3 (ipykernel)",
   "language": "python",
   "name": "python3"
  },
  "language_info": {
   "codemirror_mode": {
    "name": "ipython",
    "version": 3
   },
   "file_extension": ".py",
   "mimetype": "text/x-python",
   "name": "python",
   "nbconvert_exporter": "python",
   "pygments_lexer": "ipython3",
   "version": "3.10.6"
  }
 },
 "nbformat": 4,
 "nbformat_minor": 5
}
